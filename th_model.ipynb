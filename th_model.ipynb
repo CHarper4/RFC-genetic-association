{
 "cells": [
  {
   "cell_type": "code",
   "execution_count": 1,
   "id": "80d666a2",
   "metadata": {},
   "outputs": [],
   "source": [
    "import numpy as np\n",
    "import time\n",
    "\n",
    "from sklearn.ensemble import RandomForestClassifier\n",
    "from sklearn.preprocessing import OneHotEncoder, LabelBinarizer\n",
    "from sklearn.model_selection import LeaveOneOut, cross_val_score, GridSearchCV, StratifiedShuffleSplit, train_test_split\n",
    "from sklearn.metrics import roc_curve, auc\n",
    "from sklearn.multiclass import OneVsRestClassifier\n",
    "\n",
    "import matplotlib.pyplot as plt"
   ]
  },
  {
   "cell_type": "markdown",
   "id": "ba7309dc",
   "metadata": {},
   "source": [
    "### Data Prep"
   ]
  },
  {
   "cell_type": "code",
   "execution_count": 2,
   "id": "1e40ba6e",
   "metadata": {},
   "outputs": [],
   "source": [
    "#returns\n",
    "#    array of sample IDs (0-100)\n",
    "#    2D array of sample SNP data \n",
    "#    array of sample positions in genome to be used as feature names\n",
    "#    array of counts of samples that have SNPs in that position\n",
    "def parse_SNPs(fn):\n",
    "    f = open(fn)\n",
    "\n",
    "    sample_IDs_ws = f.readline().split(\"\\t\")[2:]\n",
    "    sample_IDs = [s.strip() for s in sample_IDs_ws]\n",
    "    \n",
    "    num_samples = len(sample_IDs)  #100\n",
    "    samples = []  #SNP data for each sample\n",
    "    positions = []  #positions in genome (from \"catalog ID\")\n",
    "    counts = []\n",
    "    \n",
    "    for i in range(num_samples):\n",
    "        samples.append([])\n",
    "    \n",
    "    for line in f.readlines():\n",
    "        split = line.split(\"\\t\")\n",
    "        positions.append(split[0])\n",
    "        counts.append(split[1])\n",
    "        for i, s in enumerate(split[2:]):\n",
    "            samples[i].append(s.strip())\n",
    "            \n",
    "    return sample_IDs, samples, positions, counts"
   ]
  },
  {
   "cell_type": "code",
   "execution_count": 3,
   "id": "b82366f7",
   "metadata": {},
   "outputs": [],
   "source": [
    "#returns array of labels\n",
    "def parse_labels(fn):\n",
    "    f = open(fn, 'r', encoding='utf-8-sig')\n",
    "    labels = [None] * 100 #initializing list so sample plant_types can be added in correct positions based on ID\n",
    "    \n",
    "    #store plant types in positions based on sample ID\n",
    "    for line in f.readlines():\n",
    "        split = line.split(\",\")\n",
    "        i = sample_IDs.index(split[0]) #sample position\n",
    "        labels[i] = split[2]\n",
    "    \n",
    "    return labels"
   ]
  },
  {
   "cell_type": "code",
   "execution_count": 4,
   "id": "63e5e26c",
   "metadata": {},
   "outputs": [],
   "source": [
    "sample_IDs, samples, positions, counts = parse_SNPs('SNPs.txt')\n",
    "labels = parse_labels('sample_info.csv')"
   ]
  },
  {
   "cell_type": "code",
   "execution_count": 5,
   "id": "7bb3c12f",
   "metadata": {},
   "outputs": [],
   "source": [
    "#stratified shuffle for tune/cv sets\n",
    "\n",
    "strat_shuffle_split = StratifiedShuffleSplit(n_splits=1, test_size=0.7, random_state=0)\n",
    "(tune_index, cv_index) = next(strat_shuffle_split.split(samples, labels))"
   ]
  },
  {
   "cell_type": "code",
   "execution_count": 6,
   "id": "498e944a",
   "metadata": {},
   "outputs": [],
   "source": [
    "#shuffling data based on indices from stratified shuffle\n",
    "\n",
    "#tuning set\n",
    "tune_size = len(tune_index)\n",
    "tune_sample_IDs = [None] * tune_size\n",
    "y_tune = [None] * tune_size\n",
    "X_tune = [None] * tune_size\n",
    "\n",
    "for i, old_pos in enumerate(tune_index):\n",
    "    tune_sample_IDs[i] = sample_IDs[old_pos]\n",
    "    y_tune[i] = labels[old_pos]\n",
    "    X_tune[i] = samples[old_pos]\n",
    "\n",
    "#cv set\n",
    "cv_size = len(cv_index)\n",
    "cv_sample_IDs = [None] * cv_size\n",
    "y_cv = [None] * cv_size\n",
    "X_cv = [None] * cv_size\n",
    "\n",
    "for i, old_pos in enumerate(cv_index):\n",
    "    cv_sample_IDs[i] = sample_IDs[old_pos]\n",
    "    y_cv[i] = labels[old_pos]\n",
    "    X_cv[i] = samples[old_pos]\n",
    "\n",
    "\n",
    "#complete set\n",
    "X = X_cv + X_tune\n",
    "y = y_cv + y_tune\n",
    "sample_IDs = cv_sample_IDs + tune_sample_IDs"
   ]
  },
  {
   "cell_type": "code",
   "execution_count": 7,
   "id": "8ae2832f",
   "metadata": {},
   "outputs": [
    {
     "data": {
      "text/html": [
       "<style>#sk-container-id-1 {color: black;}#sk-container-id-1 pre{padding: 0;}#sk-container-id-1 div.sk-toggleable {background-color: white;}#sk-container-id-1 label.sk-toggleable__label {cursor: pointer;display: block;width: 100%;margin-bottom: 0;padding: 0.3em;box-sizing: border-box;text-align: center;}#sk-container-id-1 label.sk-toggleable__label-arrow:before {content: \"▸\";float: left;margin-right: 0.25em;color: #696969;}#sk-container-id-1 label.sk-toggleable__label-arrow:hover:before {color: black;}#sk-container-id-1 div.sk-estimator:hover label.sk-toggleable__label-arrow:before {color: black;}#sk-container-id-1 div.sk-toggleable__content {max-height: 0;max-width: 0;overflow: hidden;text-align: left;background-color: #f0f8ff;}#sk-container-id-1 div.sk-toggleable__content pre {margin: 0.2em;color: black;border-radius: 0.25em;background-color: #f0f8ff;}#sk-container-id-1 input.sk-toggleable__control:checked~div.sk-toggleable__content {max-height: 200px;max-width: 100%;overflow: auto;}#sk-container-id-1 input.sk-toggleable__control:checked~label.sk-toggleable__label-arrow:before {content: \"▾\";}#sk-container-id-1 div.sk-estimator input.sk-toggleable__control:checked~label.sk-toggleable__label {background-color: #d4ebff;}#sk-container-id-1 div.sk-label input.sk-toggleable__control:checked~label.sk-toggleable__label {background-color: #d4ebff;}#sk-container-id-1 input.sk-hidden--visually {border: 0;clip: rect(1px 1px 1px 1px);clip: rect(1px, 1px, 1px, 1px);height: 1px;margin: -1px;overflow: hidden;padding: 0;position: absolute;width: 1px;}#sk-container-id-1 div.sk-estimator {font-family: monospace;background-color: #f0f8ff;border: 1px dotted black;border-radius: 0.25em;box-sizing: border-box;margin-bottom: 0.5em;}#sk-container-id-1 div.sk-estimator:hover {background-color: #d4ebff;}#sk-container-id-1 div.sk-parallel-item::after {content: \"\";width: 100%;border-bottom: 1px solid gray;flex-grow: 1;}#sk-container-id-1 div.sk-label:hover label.sk-toggleable__label {background-color: #d4ebff;}#sk-container-id-1 div.sk-serial::before {content: \"\";position: absolute;border-left: 1px solid gray;box-sizing: border-box;top: 0;bottom: 0;left: 50%;z-index: 0;}#sk-container-id-1 div.sk-serial {display: flex;flex-direction: column;align-items: center;background-color: white;padding-right: 0.2em;padding-left: 0.2em;position: relative;}#sk-container-id-1 div.sk-item {position: relative;z-index: 1;}#sk-container-id-1 div.sk-parallel {display: flex;align-items: stretch;justify-content: center;background-color: white;position: relative;}#sk-container-id-1 div.sk-item::before, #sk-container-id-1 div.sk-parallel-item::before {content: \"\";position: absolute;border-left: 1px solid gray;box-sizing: border-box;top: 0;bottom: 0;left: 50%;z-index: -1;}#sk-container-id-1 div.sk-parallel-item {display: flex;flex-direction: column;z-index: 1;position: relative;background-color: white;}#sk-container-id-1 div.sk-parallel-item:first-child::after {align-self: flex-end;width: 50%;}#sk-container-id-1 div.sk-parallel-item:last-child::after {align-self: flex-start;width: 50%;}#sk-container-id-1 div.sk-parallel-item:only-child::after {width: 0;}#sk-container-id-1 div.sk-dashed-wrapped {border: 1px dashed gray;margin: 0 0.4em 0.5em 0.4em;box-sizing: border-box;padding-bottom: 0.4em;background-color: white;}#sk-container-id-1 div.sk-label label {font-family: monospace;font-weight: bold;display: inline-block;line-height: 1.2em;}#sk-container-id-1 div.sk-label-container {text-align: center;}#sk-container-id-1 div.sk-container {/* jupyter's `normalize.less` sets `[hidden] { display: none; }` but bootstrap.min.css set `[hidden] { display: none !important; }` so we also need the `!important` here to be able to override the default hidden behavior on the sphinx rendered scikit-learn.org. See: https://github.com/scikit-learn/scikit-learn/issues/21755 */display: inline-block !important;position: relative;}#sk-container-id-1 div.sk-text-repr-fallback {display: none;}</style><div id=\"sk-container-id-1\" class=\"sk-top-container\"><div class=\"sk-text-repr-fallback\"><pre>OneHotEncoder()</pre><b>In a Jupyter environment, please rerun this cell to show the HTML representation or trust the notebook. <br />On GitHub, the HTML representation is unable to render, please try loading this page with nbviewer.org.</b></div><div class=\"sk-container\" hidden><div class=\"sk-item\"><div class=\"sk-estimator sk-toggleable\"><input class=\"sk-toggleable__control sk-hidden--visually\" id=\"sk-estimator-id-1\" type=\"checkbox\" checked><label for=\"sk-estimator-id-1\" class=\"sk-toggleable__label sk-toggleable__label-arrow\">OneHotEncoder</label><div class=\"sk-toggleable__content\"><pre>OneHotEncoder()</pre></div></div></div></div></div>"
      ],
      "text/plain": [
       "OneHotEncoder()"
      ]
     },
     "execution_count": 7,
     "metadata": {},
     "output_type": "execute_result"
    }
   ],
   "source": [
    "ohe = OneHotEncoder()\n",
    "ohe.fit(samples)"
   ]
  },
  {
   "cell_type": "code",
   "execution_count": 8,
   "id": "e6fcd9e3",
   "metadata": {
    "scrolled": true
   },
   "outputs": [],
   "source": [
    "X_encoded = ohe.transform(X).toarray()\n",
    "X_cv_encoded = ohe.transform(X_cv).toarray()\n",
    "X_tune_encoded = ohe.transform(X_tune).toarray()"
   ]
  },
  {
   "cell_type": "markdown",
   "id": "de61cfa7",
   "metadata": {},
   "source": [
    "### Tuning"
   ]
  },
  {
   "cell_type": "code",
   "execution_count": 9,
   "id": "ae8298c6",
   "metadata": {},
   "outputs": [],
   "source": [
    "# info on tuning from sources 1 & 2:\n",
    "# increasing n_estimators and max_features improves performance, eventually plateaus\n",
    "# use larger values for max_features if there are many irrelevant input variables\n",
    "# too large of a max_depth can cause overfitting"
   ]
  },
  {
   "cell_type": "code",
   "execution_count": 10,
   "id": "de672c02",
   "metadata": {},
   "outputs": [],
   "source": [
    "rfc_tune = RandomForestClassifier(\n",
    "                            class_weight='balanced',\n",
    "                            criterion='entropy',\n",
    "                            n_estimators=500,\n",
    "                            max_features=0.5,\n",
    "                            )\n",
    "\n",
    "loo = LeaveOneOut()\n",
    "\n",
    "start = time.time()\n",
    "scores_tune = cross_val_score(rfc_tune, X_tune_encoded, y_tune, cv=loo)\n",
    "end = time.time()\n",
    "print(end-start)\n",
    "\n",
    "print('Accuracy: %.3f, std: %.3f' % (np.mean(scores_tune), np.std(scores_tune)))"
   ]
  },
  {
   "cell_type": "markdown",
   "id": "876baab0",
   "metadata": {},
   "source": [
    "### LOOCV"
   ]
  },
  {
   "cell_type": "code",
   "execution_count": 12,
   "id": "7b3f74b1",
   "metadata": {},
   "outputs": [
    {
     "name": "stdout",
     "output_type": "stream",
     "text": [
      "1764.0306582450867\n",
      "Accuracy: 0.757, std: 0.429\n"
     ]
    }
   ],
   "source": [
    "rfc_cv = RandomForestClassifier(\n",
    "                            class_weight='balanced',\n",
    "                            criterion='entropy',\n",
    "                            n_estimators=500,\n",
    "                            max_features=0.5\n",
    "                            )\n",
    "\n",
    "loo = LeaveOneOut()\n",
    "\n",
    "start = time.time()\n",
    "scores = cross_val_score(rfc_cv, X_cv_encoded, y_cv, cv=loo)\n",
    "end = time.time()\n",
    "print(end-start)\n",
    "\n",
    "print('Accuracy: %.3f, std: %.3f' % (np.mean(scores), np.std(scores)))"
   ]
  },
  {
   "cell_type": "markdown",
   "id": "07761640",
   "metadata": {},
   "source": [
    "### ROC"
   ]
  },
  {
   "cell_type": "code",
   "execution_count": 10,
   "id": "a683ab83",
   "metadata": {},
   "outputs": [],
   "source": [
    "binarizer = LabelBinarizer().fit(y_cv)\n",
    "y_cv_oh = binarizer.transform(y_cv)\n",
    "X_train, X_test, y_train, y_test = train_test_split(X_cv_encoded, y_cv_oh, test_size=0.3, random_state=0)"
   ]
  },
  {
   "cell_type": "code",
   "execution_count": 11,
   "id": "552ce8f0",
   "metadata": {},
   "outputs": [
    {
     "data": {
      "text/html": [
       "<style>#sk-container-id-2 {color: black;}#sk-container-id-2 pre{padding: 0;}#sk-container-id-2 div.sk-toggleable {background-color: white;}#sk-container-id-2 label.sk-toggleable__label {cursor: pointer;display: block;width: 100%;margin-bottom: 0;padding: 0.3em;box-sizing: border-box;text-align: center;}#sk-container-id-2 label.sk-toggleable__label-arrow:before {content: \"▸\";float: left;margin-right: 0.25em;color: #696969;}#sk-container-id-2 label.sk-toggleable__label-arrow:hover:before {color: black;}#sk-container-id-2 div.sk-estimator:hover label.sk-toggleable__label-arrow:before {color: black;}#sk-container-id-2 div.sk-toggleable__content {max-height: 0;max-width: 0;overflow: hidden;text-align: left;background-color: #f0f8ff;}#sk-container-id-2 div.sk-toggleable__content pre {margin: 0.2em;color: black;border-radius: 0.25em;background-color: #f0f8ff;}#sk-container-id-2 input.sk-toggleable__control:checked~div.sk-toggleable__content {max-height: 200px;max-width: 100%;overflow: auto;}#sk-container-id-2 input.sk-toggleable__control:checked~label.sk-toggleable__label-arrow:before {content: \"▾\";}#sk-container-id-2 div.sk-estimator input.sk-toggleable__control:checked~label.sk-toggleable__label {background-color: #d4ebff;}#sk-container-id-2 div.sk-label input.sk-toggleable__control:checked~label.sk-toggleable__label {background-color: #d4ebff;}#sk-container-id-2 input.sk-hidden--visually {border: 0;clip: rect(1px 1px 1px 1px);clip: rect(1px, 1px, 1px, 1px);height: 1px;margin: -1px;overflow: hidden;padding: 0;position: absolute;width: 1px;}#sk-container-id-2 div.sk-estimator {font-family: monospace;background-color: #f0f8ff;border: 1px dotted black;border-radius: 0.25em;box-sizing: border-box;margin-bottom: 0.5em;}#sk-container-id-2 div.sk-estimator:hover {background-color: #d4ebff;}#sk-container-id-2 div.sk-parallel-item::after {content: \"\";width: 100%;border-bottom: 1px solid gray;flex-grow: 1;}#sk-container-id-2 div.sk-label:hover label.sk-toggleable__label {background-color: #d4ebff;}#sk-container-id-2 div.sk-serial::before {content: \"\";position: absolute;border-left: 1px solid gray;box-sizing: border-box;top: 0;bottom: 0;left: 50%;z-index: 0;}#sk-container-id-2 div.sk-serial {display: flex;flex-direction: column;align-items: center;background-color: white;padding-right: 0.2em;padding-left: 0.2em;position: relative;}#sk-container-id-2 div.sk-item {position: relative;z-index: 1;}#sk-container-id-2 div.sk-parallel {display: flex;align-items: stretch;justify-content: center;background-color: white;position: relative;}#sk-container-id-2 div.sk-item::before, #sk-container-id-2 div.sk-parallel-item::before {content: \"\";position: absolute;border-left: 1px solid gray;box-sizing: border-box;top: 0;bottom: 0;left: 50%;z-index: -1;}#sk-container-id-2 div.sk-parallel-item {display: flex;flex-direction: column;z-index: 1;position: relative;background-color: white;}#sk-container-id-2 div.sk-parallel-item:first-child::after {align-self: flex-end;width: 50%;}#sk-container-id-2 div.sk-parallel-item:last-child::after {align-self: flex-start;width: 50%;}#sk-container-id-2 div.sk-parallel-item:only-child::after {width: 0;}#sk-container-id-2 div.sk-dashed-wrapped {border: 1px dashed gray;margin: 0 0.4em 0.5em 0.4em;box-sizing: border-box;padding-bottom: 0.4em;background-color: white;}#sk-container-id-2 div.sk-label label {font-family: monospace;font-weight: bold;display: inline-block;line-height: 1.2em;}#sk-container-id-2 div.sk-label-container {text-align: center;}#sk-container-id-2 div.sk-container {/* jupyter's `normalize.less` sets `[hidden] { display: none; }` but bootstrap.min.css set `[hidden] { display: none !important; }` so we also need the `!important` here to be able to override the default hidden behavior on the sphinx rendered scikit-learn.org. See: https://github.com/scikit-learn/scikit-learn/issues/21755 */display: inline-block !important;position: relative;}#sk-container-id-2 div.sk-text-repr-fallback {display: none;}</style><div id=\"sk-container-id-2\" class=\"sk-top-container\"><div class=\"sk-text-repr-fallback\"><pre>OneVsRestClassifier(estimator=RandomForestClassifier(class_weight=&#x27;balanced&#x27;,\n",
       "                                                     criterion=&#x27;entropy&#x27;,\n",
       "                                                     max_features=0.5,\n",
       "                                                     n_estimators=500))</pre><b>In a Jupyter environment, please rerun this cell to show the HTML representation or trust the notebook. <br />On GitHub, the HTML representation is unable to render, please try loading this page with nbviewer.org.</b></div><div class=\"sk-container\" hidden><div class=\"sk-item sk-dashed-wrapped\"><div class=\"sk-label-container\"><div class=\"sk-label sk-toggleable\"><input class=\"sk-toggleable__control sk-hidden--visually\" id=\"sk-estimator-id-2\" type=\"checkbox\" ><label for=\"sk-estimator-id-2\" class=\"sk-toggleable__label sk-toggleable__label-arrow\">OneVsRestClassifier</label><div class=\"sk-toggleable__content\"><pre>OneVsRestClassifier(estimator=RandomForestClassifier(class_weight=&#x27;balanced&#x27;,\n",
       "                                                     criterion=&#x27;entropy&#x27;,\n",
       "                                                     max_features=0.5,\n",
       "                                                     n_estimators=500))</pre></div></div></div><div class=\"sk-parallel\"><div class=\"sk-parallel-item\"><div class=\"sk-item\"><div class=\"sk-label-container\"><div class=\"sk-label sk-toggleable\"><input class=\"sk-toggleable__control sk-hidden--visually\" id=\"sk-estimator-id-3\" type=\"checkbox\" ><label for=\"sk-estimator-id-3\" class=\"sk-toggleable__label sk-toggleable__label-arrow\">estimator: RandomForestClassifier</label><div class=\"sk-toggleable__content\"><pre>RandomForestClassifier(class_weight=&#x27;balanced&#x27;, criterion=&#x27;entropy&#x27;,\n",
       "                       max_features=0.5, n_estimators=500)</pre></div></div></div><div class=\"sk-serial\"><div class=\"sk-item\"><div class=\"sk-estimator sk-toggleable\"><input class=\"sk-toggleable__control sk-hidden--visually\" id=\"sk-estimator-id-4\" type=\"checkbox\" ><label for=\"sk-estimator-id-4\" class=\"sk-toggleable__label sk-toggleable__label-arrow\">RandomForestClassifier</label><div class=\"sk-toggleable__content\"><pre>RandomForestClassifier(class_weight=&#x27;balanced&#x27;, criterion=&#x27;entropy&#x27;,\n",
       "                       max_features=0.5, n_estimators=500)</pre></div></div></div></div></div></div></div></div></div></div>"
      ],
      "text/plain": [
       "OneVsRestClassifier(estimator=RandomForestClassifier(class_weight='balanced',\n",
       "                                                     criterion='entropy',\n",
       "                                                     max_features=0.5,\n",
       "                                                     n_estimators=500))"
      ]
     },
     "execution_count": 11,
     "metadata": {},
     "output_type": "execute_result"
    }
   ],
   "source": [
    "rfc_roc = RandomForestClassifier(class_weight='balanced', criterion='entropy', n_estimators=500, max_features=0.5)\n",
    "ovr = OneVsRestClassifier(rfc_roc)\n",
    "ovr.fit(X_train, y_train)"
   ]
  },
  {
   "cell_type": "code",
   "execution_count": 12,
   "id": "dca32925",
   "metadata": {},
   "outputs": [
    {
     "data": {
      "image/png": "[encoded data removed]",
      "text/plain": [
       "<Figure size 640x480 with 1 Axes>"
      ]
     },
     "metadata": {},
     "output_type": "display_data"
    }
   ],
   "source": [
    "fpr = dict()\n",
    "tpr = dict()\n",
    "roc_auc = dict()\n",
    "\n",
    "for i in range(3):\n",
    "    fpr[i], tpr[i], _ = roc_curve(y_test[:, i], ovr.predict_proba(X_test)[:, i])\n",
    "    roc_auc[i] = auc(fpr[i], tpr[i])\n",
    "\n",
    "#plt.figure()\n",
    "colors = ['r', 'b', 'y']\n",
    "\n",
    "for i in range(3):\n",
    "    plt.plot(fpr[i], tpr[i], color=colors[i], label=\"{0} (area = {1:0.2f})\".format(binarizer.classes_[i], roc_auc[i]))\n",
    "    \n",
    "plt.xlabel(\"False Positive\")\n",
    "plt.ylabel(\"True Positive\")\n",
    "plt.legend(loc=\"lower right\")\n",
    "plt.show()"
   ]
  },
  {
   "cell_type": "markdown",
   "id": "48f24e46",
   "metadata": {},
   "source": [
    "### Backward Purging"
   ]
  },
  {
   "cell_type": "code",
   "execution_count": null,
   "id": "d131f066",
   "metadata": {},
   "outputs": [],
   "source": []
  },
  {
   "cell_type": "markdown",
   "id": "43fe31fc",
   "metadata": {},
   "source": [
    "### Average Feature Importances and Elbow Method"
   ]
  },
  {
   "cell_type": "code",
   "execution_count": 13,
   "id": "0bd175ce",
   "metadata": {},
   "outputs": [
    {
     "name": "stdout",
     "output_type": "stream",
     "text": [
      "163.12630915641785\n"
     ]
    }
   ],
   "source": [
    "#finding average importances across 10 runs\n",
    "\n",
    "avg_importances = {pos : 0 for pos in positions}\n",
    "\n",
    "start = time.time()\n",
    "#sum importances over 10 runs\n",
    "for i in range(10):\n",
    "    \n",
    "    rfc_fi = RandomForestClassifier(\n",
    "                                class_weight='balanced',\n",
    "                                criterion='entropy',\n",
    "                                n_estimators=500,\n",
    "                                max_features=0.5\n",
    "                                )\n",
    "    rfc_fi.fit(X_encoded, y)\n",
    "\n",
    "    importance_values = rfc_fi.feature_importances_\n",
    "    feat_names = ohe.get_feature_names_out(positions)\n",
    "\n",
    "    #recombine feature names and importances into list of tuples with (gene position, SNP value, importance)\n",
    "    feat_importances = []\n",
    "    for i, f in enumerate(feat_names):\n",
    "        split = f.split('_')\n",
    "        feat_importances.append((split[0], split[1], importance_values[i]))\n",
    "\n",
    "    #find summed importance per position\n",
    "    summed_importances = {}\n",
    "    for pos in positions:\n",
    "        total = 0\n",
    "        for p in feat_importances:\n",
    "            if p[0] == pos: total += p[2]\n",
    "        summed_importances[pos] = total\n",
    "    \n",
    "    for p in summed_importances:\n",
    "        avg_importances[p] += summed_importances[p]\n",
    "\n",
    "#divide values by 10 for average\n",
    "for p in avg_importances:\n",
    "    avg_importances[p] = avg_importances[p]/10\n",
    "    \n",
    "end = time.time()\n",
    "print(end-start)"
   ]
  },
  {
   "cell_type": "code",
   "execution_count": 15,
   "id": "439753ba",
   "metadata": {},
   "outputs": [],
   "source": [
    "#sorting by importance\n",
    "sorted_importances = sorted(avg_importances, key=avg_importances.get, reverse=True)\n",
    "sorted_features = []\n",
    "sorted_values = []\n",
    "for p in sorted_importances:\n",
    "    sorted_features.append(p)\n",
    "    sorted_values.append(avg_importances[p])"
   ]
  },
  {
   "cell_type": "code",
   "execution_count": 16,
   "id": "2eeb0035",
   "metadata": {},
   "outputs": [
    {
     "data": {
      "image/png": "[encoded data removed]",
      "text/plain": [
       "<Figure size 1400x600 with 1 Axes>"
      ]
     },
     "metadata": {},
     "output_type": "display_data"
    }
   ],
   "source": [
    "#top 20 bar plot\n",
    "plt.figure(figsize=(14,  6))\n",
    "plt.bar(sorted_features[:20], sorted_values[:20])\n",
    "plt.show()"
   ]
  },
  {
   "cell_type": "code",
   "execution_count": 17,
   "id": "aa2dc76a",
   "metadata": {},
   "outputs": [
    {
     "data": {
      "image/png": "[encoded data removed]",
      "text/plain": [
       "<Figure size 1400x600 with 1 Axes>"
      ]
     },
     "metadata": {},
     "output_type": "display_data"
    }
   ],
   "source": [
    "#elbow method from source 3 -> cutoff after top ~30\n",
    "plt.figure(figsize=(14,  6))\n",
    "plt.plot(sorted_features[:100], sorted_values[:100], 'o')\n",
    "plt.xticks([])\n",
    "plt.show()"
   ]
  },
  {
   "cell_type": "code",
   "execution_count": 28,
   "id": "76bfda60",
   "metadata": {},
   "outputs": [],
   "source": [
    "f = open(\"all_importances.txt\", \"w\")\n",
    "for p in sorted_importances:\n",
    "    f.write(str(p) + \": \" + str(avg_importances[p]) + \"\\n\")\n",
    "f.close()"
   ]
  },
  {
   "cell_type": "markdown",
   "id": "417fba86",
   "metadata": {},
   "source": [
    "### Grid Search"
   ]
  },
  {
   "cell_type": "code",
   "execution_count": 17,
   "id": "617376b2",
   "metadata": {},
   "outputs": [],
   "source": [
    "# parameters = {'n_estimators': [10, 100, 250, 500, 1000], 'criterion': ['gini', 'entropy'],\n",
    "#               'max_features': ['sqrt', 'log2', 0.1, 0.2, 0.33333, 0.5, None]}\n",
    "\n",
    "# start = time.time()\n",
    "# rfc_gs = RandomForestClassifier(class_weight='balanced')\n",
    "# gs = GridSearchCV(rfc_gs, parameters, cv=5)\n",
    "# gs.fit(X_tune_encoded, y_tune)\n",
    "# end = time.time()\n",
    "\n",
    "# print(\"time: \" + str(end-start))\n",
    "# print(gs.best_params_)"
   ]
  },
  {
   "cell_type": "markdown",
   "id": "5f2d9ad3",
   "metadata": {},
   "source": [
    "### Sources"
   ]
  },
  {
   "cell_type": "markdown",
   "id": "fd71c834",
   "metadata": {},
   "source": [
    "1: https://link.springer.com/chapter/10.1007/978-3-030-89010-0_15\n",
    "\n",
    "2: https://onlinelibrary.wiley.com/doi/am-pdf/10.1111/1755-0998.12773 \n",
    "\n",
    "3: https://bmcgenomdata.biomedcentral.com/articles/10.1186/1471-2156-11-49"
   ]
  }
 ],
 "metadata": {
  "kernelspec": {
   "display_name": "Python 3 (ipykernel)",
   "language": "python",
   "name": "python3"
  },
  "language_info": {
   "codemirror_mode": {
    "name": "ipython",
    "version": 3
   },
   "file_extension": ".py",
   "mimetype": "text/x-python",
   "name": "python",
   "nbconvert_exporter": "python",
   "pygments_lexer": "ipython3",
   "version": "3.11.4"
  }
 },
 "nbformat": 4,
 "nbformat_minor": 5
}
