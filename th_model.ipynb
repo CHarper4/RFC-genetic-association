{
 "cells": [
  {
   "cell_type": "code",
   "execution_count": 1,
   "id": "80d666a2",
   "metadata": {},
   "outputs": [],
   "source": [
    "import numpy as np\n",
    "import pandas as pd\n",
    "import time\n",
    "\n",
    "from sklearn.ensemble import RandomForestClassifier\n",
    "from sklearn.preprocessing import OneHotEncoder, LabelBinarizer\n",
    "from sklearn.model_selection import LeaveOneOut, cross_val_score, GridSearchCV, StratifiedShuffleSplit, train_test_split\n",
    "from sklearn.metrics import roc_curve, auc\n",
    "from sklearn.multiclass import OneVsRestClassifier\n",
    "\n",
    "import matplotlib.pyplot as plt"
   ]
  },
  {
   "cell_type": "markdown",
   "id": "ba7309dc",
   "metadata": {},
   "source": [
    "### Util Functions"
   ]
  },
  {
   "cell_type": "code",
   "execution_count": 2,
   "id": "b82366f7",
   "metadata": {},
   "outputs": [],
   "source": [
    "#returns\n",
    "#    array of sample IDs (0-100)\n",
    "#    2D array of sample SNP data \n",
    "#    array of sample positions in genome to be used as features\n",
    "#    array of counts of samples that have SNPs in that position\n",
    "def parse_SNPs(fn):\n",
    "    f = open(fn)\n",
    "\n",
    "    sample_IDs_ws = f.readline().split(\"\\t\")[2:]\n",
    "    sample_IDs = [s.strip() for s in sample_IDs_ws]\n",
    "    \n",
    "    num_samples = len(sample_IDs)  #100\n",
    "    samples = []  #SNP data for each sample\n",
    "    positions = []  #positions in genome (from \"catalog ID\")\n",
    "    counts = []\n",
    "    \n",
    "    for i in range(num_samples):\n",
    "        samples.append([])\n",
    "    \n",
    "    for line in f.readlines():\n",
    "        split = line.split(\"\\t\")\n",
    "        positions.append(split[0])\n",
    "        counts.append(split[1])\n",
    "        for i, s in enumerate(split[2:]):\n",
    "            samples[i].append(s.strip())\n",
    "            \n",
    "    return sample_IDs, samples, positions, counts\n",
    "\n",
    "#returns array of labels\n",
    "def parse_labels(fn):\n",
    "    f = open(fn, 'r', encoding='utf-8-sig')\n",
    "    labels = [None] * 100 #initializing list so sample plant_types can be added in correct positions based on ID\n",
    "    \n",
    "    #store plant types in positions based on sample ID\n",
    "    for line in f.readlines():\n",
    "        split = line.split(\",\")\n",
    "        i = sample_IDs.index(split[0]) #sample position\n",
    "        labels[i] = split[2]\n",
    "    \n",
    "    return labels\n",
    "\n",
    "#returns data set with features reduced according to passed set of positions\n",
    "def reduce_loci(samples, original_positions, new_positions):\n",
    "    reduced_samples = [None] * 100\n",
    "    for i, sample in enumerate(samples):\n",
    "        reduced_sample = []\n",
    "        for pos in new_positions: #construct new sample using list of new positions to get the values in the old sample\n",
    "            old_index = original_positions.index(pos)\n",
    "            snp_value = sample[old_index]\n",
    "            reduced_sample.append(snp_value)\n",
    "        reduced_samples[i] = reduced_sample\n",
    "    return reduced_samples\n",
    "\n",
    "#takes raw SNP data and cooresponding subset of positions/loci, gets average feature importances and OOB score over 10 runs\n",
    "def avg_fi_oob(samples, labels, positions_subset):\n",
    "    \n",
    "    #encode data inside to account for fluid data formatting\n",
    "    ohe = OneHotEncoder()\n",
    "    ohe.fit(samples)\n",
    "    X = ohe.transform(samples).toarray()\n",
    "    y = labels\n",
    "    \n",
    "    feature_importances = {pos: 0 for pos in positions_subset}\n",
    "    avg_oob = 0\n",
    "    \n",
    "    #get running total of feature importances and oob scores for 10 models\n",
    "    for i in range(10):\n",
    "        rfc = RandomForestClassifier(\n",
    "                                class_weight='balanced',\n",
    "                                criterion='entropy',\n",
    "                                n_estimators=500,\n",
    "                                max_features=0.5,\n",
    "                                oob_score=True\n",
    "                                )\n",
    "        rfc.fit(X, y)\n",
    "        \n",
    "        avg_oob += rfc.oob_score_\n",
    "        \n",
    "        importance_values = rfc.feature_importances_\n",
    "        feat_names = ohe.get_feature_names_out(positions_subset)\n",
    "        \n",
    "        for i, f in enumerate(feat_names):\n",
    "            split = f.split('_')\n",
    "            feature_importances[split[0]] += importance_values[i]\n",
    "    \n",
    "    #divide by 10 for average\n",
    "    for pos in feature_importances:\n",
    "        feature_importances[pos] = feature_importances[pos]/10\n",
    "    avg_oob = avg_oob/10\n",
    "    \n",
    "    return feature_importances, avg_oob"
   ]
  },
  {
   "cell_type": "markdown",
   "id": "4c19e25a",
   "metadata": {},
   "source": [
    "# Model Construction"
   ]
  },
  {
   "cell_type": "markdown",
   "id": "9bc91c46",
   "metadata": {},
   "source": [
    "### Parse, Shuffle, Split, and Encoding"
   ]
  },
  {
   "cell_type": "code",
   "execution_count": 3,
   "id": "63e5e26c",
   "metadata": {},
   "outputs": [],
   "source": [
    "sample_IDs, samples, positions, counts = parse_SNPs('SNPs.txt')\n",
    "labels = parse_labels('sample_info.csv')"
   ]
  },
  {
   "cell_type": "code",
   "execution_count": 4,
   "id": "7bb3c12f",
   "metadata": {},
   "outputs": [],
   "source": [
    "#stratified shuffle for tune/cv sets\n",
    "\n",
    "strat_shuffle_split = StratifiedShuffleSplit(n_splits=1, test_size=0.7, random_state=0)\n",
    "(tune_index, cv_index) = next(strat_shuffle_split.split(samples, labels))"
   ]
  },
  {
   "cell_type": "code",
   "execution_count": 5,
   "id": "498e944a",
   "metadata": {},
   "outputs": [],
   "source": [
    "#shuffling data based on indices from stratified shuffle\n",
    "\n",
    "#tuning set\n",
    "tune_size = len(tune_index)\n",
    "tune_sample_IDs = [None] * tune_size\n",
    "y_tune = [None] * tune_size\n",
    "X_tune = [None] * tune_size\n",
    "\n",
    "for i, old_pos in enumerate(tune_index):\n",
    "    tune_sample_IDs[i] = sample_IDs[old_pos]\n",
    "    y_tune[i] = labels[old_pos]\n",
    "    X_tune[i] = samples[old_pos]\n",
    "\n",
    "#cv set\n",
    "cv_size = len(cv_index)\n",
    "cv_sample_IDs = [None] * cv_size\n",
    "y_cv = [None] * cv_size\n",
    "X_cv = [None] * cv_size\n",
    "\n",
    "for i, old_pos in enumerate(cv_index):\n",
    "    cv_sample_IDs[i] = sample_IDs[old_pos]\n",
    "    y_cv[i] = labels[old_pos]\n",
    "    X_cv[i] = samples[old_pos]\n",
    "\n",
    "#complete set\n",
    "X = X_cv + X_tune\n",
    "y = y_cv + y_tune\n",
    "sample_IDs = cv_sample_IDs + tune_sample_IDs"
   ]
  },
  {
   "cell_type": "code",
   "execution_count": 6,
   "id": "8ae2832f",
   "metadata": {},
   "outputs": [
    {
     "data": {
      "text/html": [
       "<style>#sk-container-id-1 {color: black;}#sk-container-id-1 pre{padding: 0;}#sk-container-id-1 div.sk-toggleable {background-color: white;}#sk-container-id-1 label.sk-toggleable__label {cursor: pointer;display: block;width: 100%;margin-bottom: 0;padding: 0.3em;box-sizing: border-box;text-align: center;}#sk-container-id-1 label.sk-toggleable__label-arrow:before {content: \"▸\";float: left;margin-right: 0.25em;color: #696969;}#sk-container-id-1 label.sk-toggleable__label-arrow:hover:before {color: black;}#sk-container-id-1 div.sk-estimator:hover label.sk-toggleable__label-arrow:before {color: black;}#sk-container-id-1 div.sk-toggleable__content {max-height: 0;max-width: 0;overflow: hidden;text-align: left;background-color: #f0f8ff;}#sk-container-id-1 div.sk-toggleable__content pre {margin: 0.2em;color: black;border-radius: 0.25em;background-color: #f0f8ff;}#sk-container-id-1 input.sk-toggleable__control:checked~div.sk-toggleable__content {max-height: 200px;max-width: 100%;overflow: auto;}#sk-container-id-1 input.sk-toggleable__control:checked~label.sk-toggleable__label-arrow:before {content: \"▾\";}#sk-container-id-1 div.sk-estimator input.sk-toggleable__control:checked~label.sk-toggleable__label {background-color: #d4ebff;}#sk-container-id-1 div.sk-label input.sk-toggleable__control:checked~label.sk-toggleable__label {background-color: #d4ebff;}#sk-container-id-1 input.sk-hidden--visually {border: 0;clip: rect(1px 1px 1px 1px);clip: rect(1px, 1px, 1px, 1px);height: 1px;margin: -1px;overflow: hidden;padding: 0;position: absolute;width: 1px;}#sk-container-id-1 div.sk-estimator {font-family: monospace;background-color: #f0f8ff;border: 1px dotted black;border-radius: 0.25em;box-sizing: border-box;margin-bottom: 0.5em;}#sk-container-id-1 div.sk-estimator:hover {background-color: #d4ebff;}#sk-container-id-1 div.sk-parallel-item::after {content: \"\";width: 100%;border-bottom: 1px solid gray;flex-grow: 1;}#sk-container-id-1 div.sk-label:hover label.sk-toggleable__label {background-color: #d4ebff;}#sk-container-id-1 div.sk-serial::before {content: \"\";position: absolute;border-left: 1px solid gray;box-sizing: border-box;top: 0;bottom: 0;left: 50%;z-index: 0;}#sk-container-id-1 div.sk-serial {display: flex;flex-direction: column;align-items: center;background-color: white;padding-right: 0.2em;padding-left: 0.2em;position: relative;}#sk-container-id-1 div.sk-item {position: relative;z-index: 1;}#sk-container-id-1 div.sk-parallel {display: flex;align-items: stretch;justify-content: center;background-color: white;position: relative;}#sk-container-id-1 div.sk-item::before, #sk-container-id-1 div.sk-parallel-item::before {content: \"\";position: absolute;border-left: 1px solid gray;box-sizing: border-box;top: 0;bottom: 0;left: 50%;z-index: -1;}#sk-container-id-1 div.sk-parallel-item {display: flex;flex-direction: column;z-index: 1;position: relative;background-color: white;}#sk-container-id-1 div.sk-parallel-item:first-child::after {align-self: flex-end;width: 50%;}#sk-container-id-1 div.sk-parallel-item:last-child::after {align-self: flex-start;width: 50%;}#sk-container-id-1 div.sk-parallel-item:only-child::after {width: 0;}#sk-container-id-1 div.sk-dashed-wrapped {border: 1px dashed gray;margin: 0 0.4em 0.5em 0.4em;box-sizing: border-box;padding-bottom: 0.4em;background-color: white;}#sk-container-id-1 div.sk-label label {font-family: monospace;font-weight: bold;display: inline-block;line-height: 1.2em;}#sk-container-id-1 div.sk-label-container {text-align: center;}#sk-container-id-1 div.sk-container {/* jupyter's `normalize.less` sets `[hidden] { display: none; }` but bootstrap.min.css set `[hidden] { display: none !important; }` so we also need the `!important` here to be able to override the default hidden behavior on the sphinx rendered scikit-learn.org. See: https://github.com/scikit-learn/scikit-learn/issues/21755 */display: inline-block !important;position: relative;}#sk-container-id-1 div.sk-text-repr-fallback {display: none;}</style><div id=\"sk-container-id-1\" class=\"sk-top-container\"><div class=\"sk-text-repr-fallback\"><pre>OneHotEncoder()</pre><b>In a Jupyter environment, please rerun this cell to show the HTML representation or trust the notebook. <br />On GitHub, the HTML representation is unable to render, please try loading this page with nbviewer.org.</b></div><div class=\"sk-container\" hidden><div class=\"sk-item\"><div class=\"sk-estimator sk-toggleable\"><input class=\"sk-toggleable__control sk-hidden--visually\" id=\"sk-estimator-id-1\" type=\"checkbox\" checked><label for=\"sk-estimator-id-1\" class=\"sk-toggleable__label sk-toggleable__label-arrow\">OneHotEncoder</label><div class=\"sk-toggleable__content\"><pre>OneHotEncoder()</pre></div></div></div></div></div>"
      ],
      "text/plain": [
       "OneHotEncoder()"
      ]
     },
     "execution_count": 6,
     "metadata": {},
     "output_type": "execute_result"
    }
   ],
   "source": [
    "ohe = OneHotEncoder()\n",
    "ohe.fit(samples)"
   ]
  },
  {
   "cell_type": "code",
   "execution_count": 7,
   "id": "e6fcd9e3",
   "metadata": {
    "scrolled": true
   },
   "outputs": [],
   "source": [
    "X_encoded = ohe.transform(X).toarray()\n",
    "X_cv_encoded = ohe.transform(X_cv).toarray()\n",
    "X_tune_encoded = ohe.transform(X_tune).toarray()"
   ]
  },
  {
   "cell_type": "markdown",
   "id": "e48cd359",
   "metadata": {},
   "source": [
    "### Data Visualization"
   ]
  },
  {
   "cell_type": "code",
   "execution_count": null,
   "id": "c1b2ba65",
   "metadata": {},
   "outputs": [],
   "source": [
    "df = pd.DataFrame(X, columns=positions)\n",
    "df.head(10)"
   ]
  },
  {
   "cell_type": "markdown",
   "id": "de61cfa7",
   "metadata": {},
   "source": [
    "### Tuning"
   ]
  },
  {
   "cell_type": "code",
   "execution_count": null,
   "id": "ae8298c6",
   "metadata": {},
   "outputs": [],
   "source": [
    "# info on tuning from sources 1 & 2:\n",
    "# increasing n_estimators and max_features improves performance, eventually plateaus\n",
    "# use larger values for max_features if there are many irrelevant input variables\n",
    "# too large of a max_depth can cause overfitting"
   ]
  },
  {
   "cell_type": "code",
   "execution_count": null,
   "id": "de672c02",
   "metadata": {},
   "outputs": [],
   "source": [
    "rfc_tune = RandomForestClassifier(\n",
    "                            class_weight='balanced',\n",
    "                            criterion='entropy',\n",
    "                            n_estimators=500,\n",
    "                            max_features=0.5,\n",
    "                            )\n",
    "\n",
    "loo = LeaveOneOut()\n",
    "\n",
    "start = time.time()\n",
    "scores_tune = cross_val_score(rfc_tune, X_tune_encoded, y_tune, cv=loo)\n",
    "end = time.time()\n",
    "print(end-start)\n",
    "\n",
    "print('Accuracy: %.3f, std: %.3f' % (np.mean(scores_tune), np.std(scores_tune)))"
   ]
  },
  {
   "cell_type": "markdown",
   "id": "876baab0",
   "metadata": {},
   "source": [
    "### LOOCV"
   ]
  },
  {
   "cell_type": "code",
   "execution_count": null,
   "id": "7b3f74b1",
   "metadata": {},
   "outputs": [],
   "source": [
    "rfc_cv = RandomForestClassifier(\n",
    "                            class_weight='balanced',\n",
    "                            criterion='entropy',\n",
    "                            n_estimators=500,\n",
    "                            max_features=0.5\n",
    "                            )\n",
    "\n",
    "loo = LeaveOneOut()\n",
    "\n",
    "start = time.time()\n",
    "scores = cross_val_score(rfc_cv, X_cv_encoded, y_cv, cv=loo)\n",
    "end = time.time()\n",
    "print(end-start)\n",
    "\n",
    "print('Accuracy: %.3f, std: %.3f' % (np.mean(scores), np.std(scores)))"
   ]
  },
  {
   "cell_type": "markdown",
   "id": "07761640",
   "metadata": {},
   "source": [
    "### ROC"
   ]
  },
  {
   "cell_type": "code",
   "execution_count": null,
   "id": "a683ab83",
   "metadata": {},
   "outputs": [],
   "source": [
    "binarizer = LabelBinarizer().fit(y_cv)\n",
    "y_cv_oh = binarizer.transform(y_cv)\n",
    "X_train, X_test, y_train, y_test = train_test_split(X_cv_encoded, y_cv_oh, test_size=0.3, random_state=0)"
   ]
  },
  {
   "cell_type": "code",
   "execution_count": null,
   "id": "552ce8f0",
   "metadata": {},
   "outputs": [],
   "source": [
    "rfc_roc = RandomForestClassifier(class_weight='balanced', criterion='entropy', n_estimators=500, max_features=0.5)\n",
    "ovr = OneVsRestClassifier(rfc_roc)\n",
    "ovr.fit(X_train, y_train)"
   ]
  },
  {
   "cell_type": "code",
   "execution_count": null,
   "id": "dca32925",
   "metadata": {},
   "outputs": [],
   "source": [
    "fpr = dict()\n",
    "tpr = dict()\n",
    "roc_auc = dict()\n",
    "\n",
    "for i in range(3):\n",
    "    fpr[i], tpr[i], _ = roc_curve(y_test[:, i], ovr.predict_proba(X_test)[:, i])\n",
    "    roc_auc[i] = auc(fpr[i], tpr[i])\n",
    "\n",
    "#plt.figure()\n",
    "colors = ['r', 'b', 'y']\n",
    "\n",
    "for i in range(3):\n",
    "    plt.plot(fpr[i], tpr[i], color=colors[i], label=\"{0} (area = {1:0.2f})\".format(binarizer.classes_[i], roc_auc[i]))\n",
    "    \n",
    "plt.xlabel(\"False Positive\")\n",
    "plt.ylabel(\"True Positive\")\n",
    "plt.legend(loc=\"lower right\")\n",
    "plt.show()\n",
    "plt.savefig('output/full_set_ROC.PNG')"
   ]
  },
  {
   "cell_type": "markdown",
   "id": "48f24e46",
   "metadata": {},
   "source": [
    "# Feature Importance Analysis"
   ]
  },
  {
   "cell_type": "markdown",
   "id": "43fe31fc",
   "metadata": {},
   "source": [
    "### Averaging over 10 Runs Using Entire Feature Set"
   ]
  },
  {
   "cell_type": "code",
   "execution_count": null,
   "id": "0bd175ce",
   "metadata": {},
   "outputs": [],
   "source": [
    "start = time.time()\n",
    "feature_importances, oob = avg_fi_oob(samples, labels, positions)\n",
    "end = time.time()\n",
    "print(end-start)"
   ]
  },
  {
   "cell_type": "code",
   "execution_count": null,
   "id": "d234eda5",
   "metadata": {},
   "outputs": [],
   "source": [
    "print(oob)"
   ]
  },
  {
   "cell_type": "code",
   "execution_count": null,
   "id": "374fc2ba",
   "metadata": {},
   "outputs": [],
   "source": [
    "#sorting by importance\n",
    "sorted_importances = sorted(feature_importances, key=feature_importances.get, reverse=True)\n",
    "sorted_features = []\n",
    "sorted_values = []\n",
    "for p in sorted_importances:\n",
    "    sorted_features.append(p)\n",
    "    sorted_values.append(feature_importances[p])"
   ]
  },
  {
   "cell_type": "code",
   "execution_count": null,
   "id": "ecd9d836",
   "metadata": {},
   "outputs": [],
   "source": [
    "f = open(\"output/all_importances.txt\", \"w\")\n",
    "for p in sorted_importances:\n",
    "    f.write(str(p) + \": \" + str(avg_importances[p]) + \"\\n\")\n",
    "f.close()"
   ]
  },
  {
   "cell_type": "markdown",
   "id": "08fe5dda",
   "metadata": {},
   "source": [
    "### Backward Purging"
   ]
  },
  {
   "cell_type": "code",
   "execution_count": null,
   "id": "c9a5986d",
   "metadata": {},
   "outputs": [],
   "source": [
    "#get sorted importances from 10 averaged runs\n",
    "sorted_features = []\n",
    "f = open('output/all_importances.txt', 'r')\n",
    "for line in f.readlines():\n",
    "    feat = line.split(\": \")[0].strip()\n",
    "    sorted_features.append(feat)"
   ]
  },
  {
   "cell_type": "code",
   "execution_count": null,
   "id": "43898539",
   "metadata": {},
   "outputs": [],
   "source": [
    "bp_positions = sorted_features[:100] #starting with top ~7% of loci (100)\n",
    "max_oob = 0\n",
    "max_feature_set = {}\n",
    "\n",
    "while len(bp_positions) > 2:\n",
    "    reduced_samples = reduce_loci(samples, positions, bp_positions)\n",
    "    fis, oob = avg_fi_oob(reduced_samples, labels, bp_positions)\n",
    "\n",
    "    if oob > max_oob:\n",
    "        max_oob = oob\n",
    "        max_feature_set = fis\n",
    "    \n",
    "    keys = list(fis.keys())\n",
    "    vals = list(fis.values())\n",
    "    lowest_position = keys[vals.index(min(vals))]\n",
    "\n",
    "    bp_positions.remove(lowest_position)\n",
    "    print(\"Removed %s; %i left\" % (lowest_position, len(bp_positions)))"
   ]
  },
  {
   "cell_type": "code",
   "execution_count": null,
   "id": "b84224b2",
   "metadata": {},
   "outputs": [],
   "source": [
    "print(len(max_feature_set))\n",
    "print(max_oob)"
   ]
  },
  {
   "cell_type": "markdown",
   "id": "424cf359",
   "metadata": {},
   "source": [
    "**Run 1 (3%, 40 features): Settled on 33 features with an average OOB score of 0.849 over 10 runs**<br>\n",
    "**Run 2 (4%, 60 features): Settled on 40 features with an average OOB score of 0.862 over 10 runs**<br>\n",
    "**Run 3 (4%, 60 features): Settled on 37 features with an average OOB score of 0.853 over 10 runs**<br>\n",
    "**Run 4 (7%, 100 features): Settled on 48 features with an average OOB score of 0.864 over 10 runs**"
   ]
  },
  {
   "cell_type": "code",
   "execution_count": null,
   "id": "0e7c3856",
   "metadata": {},
   "outputs": [],
   "source": [
    "f = open(\"output/backward_purging_results_100.txt\", \"w\")\n",
    "for feat in max_feature_set:\n",
    "    f.write(str(feat) + \": \" + str(max_feature_set[feat]) + \"\\n\")\n",
    "f.close()"
   ]
  },
  {
   "cell_type": "markdown",
   "id": "9e2a44bb",
   "metadata": {},
   "source": [
    "### LOOCV and ROC for Reduced Set"
   ]
  },
  {
   "cell_type": "code",
   "execution_count": 11,
   "id": "db305d0e",
   "metadata": {},
   "outputs": [],
   "source": [
    "#LOOCV for reduced feature set identified in backward purging\n",
    "# bp_positions = [x for x in max_feature_set]\n",
    "bp_positions = []\n",
    "f = open(\"output/backward_purging_results_100.txt\", \"r\")\n",
    "for line in f.readlines():\n",
    "    bp_positions.append(line.split(\": \")[0].strip())\n",
    "X_bp = reduce_loci(X, positions, bp_positions)\n",
    "X_bp_encoded = ohe.fit_transform(X_bp).toarray()"
   ]
  },
  {
   "cell_type": "code",
   "execution_count": 17,
   "id": "e1a06a37",
   "metadata": {},
   "outputs": [
    {
     "name": "stdout",
     "output_type": "stream",
     "text": [
      "115.63085460662842\n",
      "Accuracy: 0.870, std: 0.336\n"
     ]
    }
   ],
   "source": [
    "rfc_bp_cv = RandomForestClassifier(\n",
    "                            class_weight='balanced',\n",
    "                            criterion='entropy',\n",
    "                            n_estimators=500,\n",
    "                            max_features=0.5\n",
    "                            )\n",
    "\n",
    "loo = LeaveOneOut()\n",
    "\n",
    "start = time.time()\n",
    "scores = cross_val_score(rfc_bp_cv, X_bp_encoded, y, cv=loo)\n",
    "end = time.time()\n",
    "print(end-start)\n",
    "\n",
    "print('Accuracy: %.3f, std: %.3f' % (np.mean(scores), np.std(scores)))"
   ]
  },
  {
   "cell_type": "code",
   "execution_count": 24,
   "id": "b931cad4",
   "metadata": {},
   "outputs": [
    {
     "data": {
      "image/png": "[encoded data removed]",
      "text/plain": [
       "<Figure size 640x480 with 1 Axes>"
      ]
     },
     "metadata": {},
     "output_type": "display_data"
    }
   ],
   "source": [
    "#ROC curves for bp dataset, feature set drawn from backward_purging_results_100.txt\n",
    "\n",
    "binarizer = LabelBinarizer().fit(y)\n",
    "y_bp_encoded = binarizer.transform(y)\n",
    "X_train, X_test, y_train, y_test = train_test_split(X_bp_encoded, y_bp_encoded, test_size=0.3, random_state=0)\n",
    "\n",
    "rfc_bp_roc = RandomForestClassifier(class_weight='balanced', criterion='entropy', n_estimators=500, max_features=0.5)\n",
    "ovr = OneVsRestClassifier(rfc_bp_roc)\n",
    "ovr.fit(X_train, y_train)\n",
    "\n",
    "fpr = dict()\n",
    "tpr = dict()\n",
    "roc_auc = dict()\n",
    "for i in range(3):\n",
    "    fpr[i], tpr[i], _ = roc_curve(y_test[:, i], ovr.predict_proba(X_test)[:, i])\n",
    "    roc_auc[i] = auc(fpr[i], tpr[i])\n",
    "\n",
    "colors = ['r', 'b', 'y']\n",
    "for i in range(3):\n",
    "    plt.plot(fpr[i], tpr[i], color=colors[i], label=\"{0} (area = {1:0.2f})\".format(binarizer.classes_[i], roc_auc[i]))\n",
    "    \n",
    "plt.xlabel(\"False Positive\")\n",
    "plt.ylabel(\"True Positive\")\n",
    "plt.legend(loc=\"lower right\")\n",
    "plt.savefig('output/bp_roc_curves.PNG')\n",
    "plt.show()"
   ]
  },
  {
   "cell_type": "markdown",
   "id": "30a0a82e",
   "metadata": {},
   "source": [
    "### Elbow Method"
   ]
  },
  {
   "cell_type": "code",
   "execution_count": null,
   "id": "aa2dc76a",
   "metadata": {},
   "outputs": [],
   "source": [
    "#elbow method -> top ~30 cutoff\n",
    "plt.figure(figsize=(14,  6))\n",
    "plt.plot(sorted_features[:100], sorted_values[:100], 'o')\n",
    "plt.xticks([])\n",
    "plt.show()"
   ]
  },
  {
   "cell_type": "code",
   "execution_count": 22,
   "id": "58d9bed4",
   "metadata": {},
   "outputs": [],
   "source": [
    "#LOOCV for reduced feature set identified in elbow method\n",
    "elb_positions = sorted_features[:30]\n",
    "X_elb = reduce_loci(samples, positions, elb_positions)\n",
    "X_elb_encoded = ohe.fit_transform(X_elb).toarray()"
   ]
  },
  {
   "cell_type": "code",
   "execution_count": 23,
   "id": "91864f99",
   "metadata": {},
   "outputs": [
    {
     "name": "stdout",
     "output_type": "stream",
     "text": [
      "239.5720136165619\n",
      "Accuracy: 0.810, std: 0.392\n"
     ]
    }
   ],
   "source": [
    "rfc_elb_cv = RandomForestClassifier(\n",
    "                            class_weight='balanced',\n",
    "                            criterion='entropy',\n",
    "                            n_estimators=500,\n",
    "                            max_features=0.5\n",
    "                            )\n",
    "\n",
    "loo = LeaveOneOut()\n",
    "\n",
    "start = time.time()\n",
    "scores = cross_val_score(rfc_elb_cv, X_elb_encoded, labels, cv=loo)\n",
    "end = time.time()\n",
    "print(end-start)\n",
    "\n",
    "print('Accuracy: %.3f, std: %.3f' % (np.mean(scores), np.std(scores)))"
   ]
  }
 ],
 "metadata": {
  "kernelspec": {
   "display_name": "Python 3 (ipykernel)",
   "language": "python",
   "name": "python3"
  },
  "language_info": {
   "codemirror_mode": {
    "name": "ipython",
    "version": 3
   },
   "file_extension": ".py",
   "mimetype": "text/x-python",
   "name": "python",
   "nbconvert_exporter": "python",
   "pygments_lexer": "ipython3",
   "version": "3.11.4"
  }
 },
 "nbformat": 4,
 "nbformat_minor": 5
}
